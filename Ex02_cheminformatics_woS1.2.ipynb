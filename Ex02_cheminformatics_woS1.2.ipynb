{
 "cells": [
  {
   "cell_type": "markdown",
   "id": "3fe09cc9",
   "metadata": {
    "id": "3fe09cc9"
   },
   "source": [
    "# <center>Exercises: Cheminformatics with RDkit</center>\n",
    "\n",
    "---\n",
    "\n",
    "*Fill in the blanks* in the provided code blocks.\n",
    "\n",
    "Please turn in the answers until **Feb 21, 2025**."
   ]
  },
  {
   "cell_type": "markdown",
   "id": "Y5rNUUK3ewey",
   "metadata": {
    "id": "Y5rNUUK3ewey"
   },
   "source": [
    "The data we will use can be acquired from [MoleculeNet](https://moleculenet.org/datasets-1).\n",
    "\n",
    "We will evaluate a set of ~1500 small molecules which are inhibitors of the protein beta-secretase 1 (BACE-1). The data set is available at: https://deepchemdata.s3-us-west-1.amazonaws.com/datasets/bace.csv\n",
    "\n",
    "Relevant columns for this exercise:\n",
    "- column 1: SMILES code of the inhibitors (*mol*)\n",
    "- column 5: potency of the inhibitors (*pIC50*; $IC_{50}$ is the half-maximal inhibitory concentration, $pIC_{50}=-log(IC_{50})$)\n",
    "- column 6: molecular weight (*MW*, in g/mol)\n",
    "- column 7: log of octanol-water partition coefficient, calculated using the [AlogP model](https://pubs.acs.org/doi/full/10.1021/jp980230o) (*AlogP*)\n",
    "- column 8: number of hydrogen-bond acceptors (*HBA*)\n",
    "- column 9: number of hydrogen-bond donors (*HBD*)"
   ]
  },
  {
   "cell_type": "markdown",
   "id": "SNfYxWf_mOou",
   "metadata": {
    "id": "SNfYxWf_mOou"
   },
   "source": [
    "1a- Import the data set into a *pandas* dataframe; keep only the relevant columns mentioned above. Print the resulting dataframe.\n",
    "\n",
    "(10 points)\n",
    "\n",
    "```python\n",
    "# note: python uses 0-numbering; column 1 would have the position 0\n",
    "bace1_df = pd.read_csv(_______, usecols=[________])\n",
    "display(bace1_df)\n",
    "```\n"
   ]
  },
  {
   "cell_type": "code",
   "execution_count": 11,
   "id": "_LcSdf9VEcO6",
   "metadata": {
    "id": "_LcSdf9VEcO6"
   },
   "outputs": [
    {
     "data": {
      "text/html": [
       "<div>\n",
       "<style scoped>\n",
       "    .dataframe tbody tr th:only-of-type {\n",
       "        vertical-align: middle;\n",
       "    }\n",
       "\n",
       "    .dataframe tbody tr th {\n",
       "        vertical-align: top;\n",
       "    }\n",
       "\n",
       "    .dataframe thead th {\n",
       "        text-align: right;\n",
       "    }\n",
       "</style>\n",
       "<table border=\"1\" class=\"dataframe\">\n",
       "  <thead>\n",
       "    <tr style=\"text-align: right;\">\n",
       "      <th></th>\n",
       "      <th>mol</th>\n",
       "      <th>pIC50</th>\n",
       "      <th>MW</th>\n",
       "      <th>AlogP</th>\n",
       "      <th>HBA</th>\n",
       "      <th>HBD</th>\n",
       "    </tr>\n",
       "  </thead>\n",
       "  <tbody>\n",
       "    <tr>\n",
       "      <th>0</th>\n",
       "      <td>O1CC[C@@H](NC(=O)[C@@H](Cc2cc3cc(ccc3nc2N)-c2c...</td>\n",
       "      <td>9.154901</td>\n",
       "      <td>431.56979</td>\n",
       "      <td>4.4014</td>\n",
       "      <td>3</td>\n",
       "      <td>2</td>\n",
       "    </tr>\n",
       "    <tr>\n",
       "      <th>1</th>\n",
       "      <td>Fc1cc(cc(F)c1)C[C@H](NC(=O)[C@@H](N1CC[C@](NC(...</td>\n",
       "      <td>8.853872</td>\n",
       "      <td>657.81073</td>\n",
       "      <td>2.6412</td>\n",
       "      <td>5</td>\n",
       "      <td>4</td>\n",
       "    </tr>\n",
       "    <tr>\n",
       "      <th>2</th>\n",
       "      <td>S1(=O)(=O)N(c2cc(cc3c2n(cc3CC)CC1)C(=O)N[C@H](...</td>\n",
       "      <td>8.698970</td>\n",
       "      <td>591.74091</td>\n",
       "      <td>2.5499</td>\n",
       "      <td>4</td>\n",
       "      <td>3</td>\n",
       "    </tr>\n",
       "    <tr>\n",
       "      <th>3</th>\n",
       "      <td>S1(=O)(=O)C[C@@H](Cc2cc(O[C@H](COCC)C(F)(F)F)c...</td>\n",
       "      <td>8.698970</td>\n",
       "      <td>591.67828</td>\n",
       "      <td>3.1680</td>\n",
       "      <td>4</td>\n",
       "      <td>3</td>\n",
       "    </tr>\n",
       "    <tr>\n",
       "      <th>4</th>\n",
       "      <td>S1(=O)(=O)N(c2cc(cc3c2n(cc3CC)CC1)C(=O)N[C@H](...</td>\n",
       "      <td>8.698970</td>\n",
       "      <td>629.71283</td>\n",
       "      <td>3.5086</td>\n",
       "      <td>3</td>\n",
       "      <td>3</td>\n",
       "    </tr>\n",
       "    <tr>\n",
       "      <th>...</th>\n",
       "      <td>...</td>\n",
       "      <td>...</td>\n",
       "      <td>...</td>\n",
       "      <td>...</td>\n",
       "      <td>...</td>\n",
       "      <td>...</td>\n",
       "    </tr>\n",
       "    <tr>\n",
       "      <th>1508</th>\n",
       "      <td>Clc1cc2nc(n(c2cc1)C(CC(=O)NCC1CCOCC1)CC)N</td>\n",
       "      <td>3.000000</td>\n",
       "      <td>364.86969</td>\n",
       "      <td>2.5942</td>\n",
       "      <td>3</td>\n",
       "      <td>2</td>\n",
       "    </tr>\n",
       "    <tr>\n",
       "      <th>1509</th>\n",
       "      <td>Clc1cc2nc(n(c2cc1)C(CC(=O)NCc1ncccc1)CC)N</td>\n",
       "      <td>3.000000</td>\n",
       "      <td>357.83731</td>\n",
       "      <td>2.8229</td>\n",
       "      <td>3</td>\n",
       "      <td>2</td>\n",
       "    </tr>\n",
       "    <tr>\n",
       "      <th>1510</th>\n",
       "      <td>Brc1cc(ccc1)C1CC1C=1N=C(N)N(C)C(=O)C=1</td>\n",
       "      <td>2.953115</td>\n",
       "      <td>320.18451</td>\n",
       "      <td>3.0895</td>\n",
       "      <td>2</td>\n",
       "      <td>1</td>\n",
       "    </tr>\n",
       "    <tr>\n",
       "      <th>1511</th>\n",
       "      <td>O=C1N(C)C(=NC(=C1)C1CC1c1cc(ccc1)-c1ccccc1)N</td>\n",
       "      <td>2.733298</td>\n",
       "      <td>317.38440</td>\n",
       "      <td>3.8595</td>\n",
       "      <td>2</td>\n",
       "      <td>1</td>\n",
       "    </tr>\n",
       "    <tr>\n",
       "      <th>1512</th>\n",
       "      <td>Clc1cc2nc(n(c2cc1)CCCC(=O)NCC1CC1)N</td>\n",
       "      <td>2.544546</td>\n",
       "      <td>306.79059</td>\n",
       "      <td>3.4271</td>\n",
       "      <td>2</td>\n",
       "      <td>2</td>\n",
       "    </tr>\n",
       "  </tbody>\n",
       "</table>\n",
       "<p>1513 rows × 6 columns</p>\n",
       "</div>"
      ],
      "text/plain": [
       "                                                    mol     pIC50         MW  \\\n",
       "0     O1CC[C@@H](NC(=O)[C@@H](Cc2cc3cc(ccc3nc2N)-c2c...  9.154901  431.56979   \n",
       "1     Fc1cc(cc(F)c1)C[C@H](NC(=O)[C@@H](N1CC[C@](NC(...  8.853872  657.81073   \n",
       "2     S1(=O)(=O)N(c2cc(cc3c2n(cc3CC)CC1)C(=O)N[C@H](...  8.698970  591.74091   \n",
       "3     S1(=O)(=O)C[C@@H](Cc2cc(O[C@H](COCC)C(F)(F)F)c...  8.698970  591.67828   \n",
       "4     S1(=O)(=O)N(c2cc(cc3c2n(cc3CC)CC1)C(=O)N[C@H](...  8.698970  629.71283   \n",
       "...                                                 ...       ...        ...   \n",
       "1508          Clc1cc2nc(n(c2cc1)C(CC(=O)NCC1CCOCC1)CC)N  3.000000  364.86969   \n",
       "1509          Clc1cc2nc(n(c2cc1)C(CC(=O)NCc1ncccc1)CC)N  3.000000  357.83731   \n",
       "1510             Brc1cc(ccc1)C1CC1C=1N=C(N)N(C)C(=O)C=1  2.953115  320.18451   \n",
       "1511       O=C1N(C)C(=NC(=C1)C1CC1c1cc(ccc1)-c1ccccc1)N  2.733298  317.38440   \n",
       "1512                Clc1cc2nc(n(c2cc1)CCCC(=O)NCC1CC1)N  2.544546  306.79059   \n",
       "\n",
       "       AlogP  HBA  HBD  \n",
       "0     4.4014    3    2  \n",
       "1     2.6412    5    4  \n",
       "2     2.5499    4    3  \n",
       "3     3.1680    4    3  \n",
       "4     3.5086    3    3  \n",
       "...      ...  ...  ...  \n",
       "1508  2.5942    3    2  \n",
       "1509  2.8229    3    2  \n",
       "1510  3.0895    2    1  \n",
       "1511  3.8595    2    1  \n",
       "1512  3.4271    2    2  \n",
       "\n",
       "[1513 rows x 6 columns]"
      ]
     },
     "metadata": {},
     "output_type": "display_data"
    }
   ],
   "source": [
    "import pandas as pd\n",
    "\n",
    "# paste answers and run\n",
    "bace1_df = pd.read_csv(\"https://deepchemdata.s3-us-west-1.amazonaws.com/datasets/bace.csv\",usecols=[0,4,5,6,7,8])\n",
    "display(bace1_df)"
   ]
  },
  {
   "cell_type": "markdown",
   "id": "rgVlOdmx1q4d",
   "metadata": {
    "id": "rgVlOdmx1q4d"
   },
   "source": [
    "1b- Add *rdkit* mol objects to the BACE-1 dataframe. Remove the entries where the SMILES are not parsed correctly.\n",
    "\n",
    "(10 points)\n",
    "\n",
    "```python\n",
    "PandasTools.AddMoleculeColumnToFrame(bace1_df, smilesCol=___, molCol='mol_obj')\n",
    "bace1_df.___(axis=0) # drop entries containing empty cells\n",
    "display(bace1_df)\n",
    "```\n"
   ]
  },
  {
   "cell_type": "code",
   "execution_count": null,
   "id": "da410ba1",
   "metadata": {},
   "outputs": [],
   "source": [
    "!pip install rdkit"
   ]
  },
  {
   "cell_type": "code",
   "execution_count": 20,
   "id": "6bx999yL1lsm",
   "metadata": {
    "id": "6bx999yL1lsm"
   },
   "outputs": [
    {
     "data": {
      "text/html": [
       "<div>\n",
       "<style scoped>\n",
       "    .dataframe tbody tr th:only-of-type {\n",
       "        vertical-align: middle;\n",
       "    }\n",
       "\n",
       "    .dataframe tbody tr th {\n",
       "        vertical-align: top;\n",
       "    }\n",
       "\n",
       "    .dataframe thead th {\n",
       "        text-align: right;\n",
       "    }\n",
       "</style>\n",
       "<table border=\"1\" class=\"dataframe\">\n",
       "  <thead>\n",
       "    <tr style=\"text-align: right;\">\n",
       "      <th></th>\n",
       "      <th>mol</th>\n",
       "      <th>pIC50</th>\n",
       "      <th>MW</th>\n",
       "      <th>AlogP</th>\n",
       "      <th>HBA</th>\n",
       "      <th>HBD</th>\n",
       "      <th>mol_obj</th>\n",
       "    </tr>\n",
       "  </thead>\n",
       "  <tbody>\n",
       "    <tr>\n",
       "      <th>0</th>\n",
       "      <td>O1CC[C@@H](NC(=O)[C@@H](Cc2cc3cc(ccc3nc2N)-c2c...</td>\n",
       "      <td>9.154901</td>\n",
       "      <td>431.56979</td>\n",
       "      <td>4.4014</td>\n",
       "      <td>3</td>\n",
       "      <td>2</td>\n",
       "      <td style=\"text-align: center;\"><div style=\"width: 200px; height: 200px\" data-content=\"rdkit/molecule\"><img src=\"data:image/png;base64,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\" alt=\"Mol\"/></div></td>\n",
       "    </tr>\n",
       "    <tr>\n",
       "      <th>1</th>\n",
       "      <td>Fc1cc(cc(F)c1)C[C@H](NC(=O)[C@@H](N1CC[C@](NC(...</td>\n",
       "      <td>8.853872</td>\n",
       "      <td>657.81073</td>\n",
       "      <td>2.6412</td>\n",
       "      <td>5</td>\n",
       "      <td>4</td>\n",
       "      <td style=\"text-align: center;\"><div style=\"width: 200px; height: 200px\" data-content=\"rdkit/molecule\"><img src=\"data:image/png;base64,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\" alt=\"Mol\"/></div></td>\n",
       "    </tr>\n",
       "    <tr>\n",
       "      <th>2</th>\n",
       "      <td>S1(=O)(=O)N(c2cc(cc3c2n(cc3CC)CC1)C(=O)N[C@H](...</td>\n",
       "      <td>8.698970</td>\n",
       "      <td>591.74091</td>\n",
       "      <td>2.5499</td>\n",
       "      <td>4</td>\n",
       "      <td>3</td>\n",
       "      <td style=\"text-align: center;\"><div style=\"width: 200px; height: 200px\" data-content=\"rdkit/molecule\"><img src=\"data:image/png;base64,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\" alt=\"Mol\"/></div></td>\n",
       "    </tr>\n",
       "    <tr>\n",
       "      <th>3</th>\n",
       "      <td>S1(=O)(=O)C[C@@H](Cc2cc(O[C@H](COCC)C(F)(F)F)c...</td>\n",
       "      <td>8.698970</td>\n",
       "      <td>591.67828</td>\n",
       "      <td>3.1680</td>\n",
       "      <td>4</td>\n",
       "      <td>3</td>\n",
       "      <td style=\"text-align: center;\"><div style=\"width: 200px; height: 200px\" data-content=\"rdkit/molecule\"><img src=\"data:image/png;base64,iVBORw0KGgoAAAANSUhEUgAAAMgAAADICAIAAAAiOjnJAAAABmJLR0QA/wD/AP+gvaeTAAAeTklEQVR4nO2deVxUVf/Hv3eGmWEVkdVCjM0NdxBFRREJA7fyeUCyxHLBHl9uqaRlZf3MtKy0nlzIMJVywT3NMnPf0EbQlEVgAHEFWQaYjRlmvr8/jhGPCzIz93IZPO8/euH1nnM/1z6ce5bv+R4GEYFCYRsB3wIorRNqLAonUGNROIEai8IJ1FgUTqDGonACNRaFE6ixKJxAjUXhBGosCidQY1E4gRqLwgnUWBROoMaicAI1FoUTqLEonECNReEEaiwKJ1BjUTiBGovCCdRYFE6gxqJwAjUWhROosSicQI1F4QRqLAonUGNROIEai8IJ1FgUTqDGonACNRaFE6ixKJxAjUXhBGosCidQY1E4gRqLwgnUWBROoMaicIIV3wJYJleluqXVMgDD2rblW8szTWtrsfaWlXlJJF4SCd9CnnVam7EQ4FhlZaZSybeQZ53W9ilkABKee45vFZRW12JRWgitylj7ysrshcISrZZvIZRW9ClEgC0lJcUaTS97e3exmG85zzqtp8X6s7q6WKPxEIsHtmnDtxZKKzLW7rIyABjn4iJgGL61UFrkp3DjvXtag0HAMFM9PJroknKd7qRcLmSY0S4uXMujNIWnGKukpMTd3b15pNRTXVc30d3dRiBoetuz//79OsRwJydXkYhTbZQm0tin8ODBg126dFm3bl2zqannl/Lyk1VVGQrFooKCP2tqGj8EVq/XfxEV5Xn06L/s7ZtJH+VpNNZiKZVKuVw+Z86cnj17Dho0qNk0AcB4NzeJQLC4sPCPyso/Kiu9rK3HubiMdnZ2tHqM4N9++y37r7+0SmW/BQuaUySlERprscaPHz937lydThcXF3f//v1m0zTY0dGKYQBgrqfnW8895y4WF2s0q2/dirp69cOionMXLjx0f1JSEgBMnz5dIGg9Y5Fmo7Cw8I033pgzZw7L9WKj6HS6IUOGAMCwYcN0Ol3jN3OEHvFCVdVCmSz40qXYCxcAoHPnzitWrCgvL0fE4uJioVAoFotLSkp4kWfp5OXlAYCXlxe71T7FWIh479695557DgAWLVrE7rON5U5t7bf797dv3578StjZ2U2ZMmXKlCkA8Nprr/GrzXLR6XQikUggEKjVaharfbqxEPHcuXNisZhhmF27drH4bNPQarW7du2KiIhgGowZExMTa2pq+JZmqfj6+gJAVlYWi3U2yViI+OWXXwKAg4MDu483h9zc3LFjx9bby8HBISEhISMjg29dzcT9+/fPnz///vvv7927V6/Xm1PViBEjAODAgQNsacOmGwsRY2NjAaB79+4KhYJFBeYQGRkJAPHx8aGhofWtV0hIyP60NI15/9YtioqKCqlUmpqaumLFioSEhEGDBrX93/jYt956y5z6Z8yYAQCrVq1iSzAaZayampqAgAAAiIuLM+IJBgN+8AF+/DHOm4dVVUYLfDIymUwgENjY2FRUVCBiTk7OwoULnZ2dAWDMpUtDMzKWFRXlqVQsPrF5KC4unjNnzoIFC1555ZUePXrY2to+dtTl6OjYt2/fgIAAhmGsrKyOHz9u8hPJ52jmzJnsvYQxxkLE69evt2nTBgC++eabp9yq0WB2Nh48iH/8gVu2ICJevoxffmmqzsewcOFCAHjzzTcbXlQqldsPHJiUnR0olQZKpUFSacL164fLy+U63cGysoNlZYWsdlFZp6qqqk2bNg/Nmzg5OQUGBsbExCxcuDApKenIkSMymcxgMCDi+fPn33rrLQBwc3O7efOmaQ/dv38/ALz00kssvohxxkLEffv2MQwjEolOnTpFrigUisuXL+/atevQ2rU4bRqGh6OXFwoECIAAuG4dnjiBiFhZiQsWsKW7trbWzc0NANLS0h57w3WlctmNG6EZGcRhSwsL19++fVujUdTVsaWBC1JSUgDA1tZ22bJlO3bskEqlcrn8STcfPnxYLBZ369btxRdfBIABAwbU1taa8NDMzEwA8Pf3N0P4wxhtLEScP38+AIjF4v79+3t4eNT/Yg3p1euBmQDQygp9fTEyEk+exLffxro6XLcO2esebt26FQB69erV+G3KurrdpaUTsrJOV1bOys1Nun27RKtlSwMXDB48GAAWL168Z8+ep04cKhSK7t27A0B0dLS3t7fJnzO1Wi0QCKysrLTs/eOYYiydTufl5VXff5RIJF27dh09evT/vfsufvst/vYb5uVhQ4kXLuDSpXjgAOp0uGcPK7qHDh0KAOvXr2/i/TfU6q0tfgY1KyuLYRgHB4dRo0YBwFdfffXUIrm5uY6OjgAwf/58GxsbANi0aZMJj+7QoQMAyGQyE8o+FlOMhYhqtfr7778/evTojRs3jBjrRkUhAG7ebNpD68nOzmYYxt7evqrJo4FijWZHaamZz+WaWbNmkV6jSCQSi8X37t1rSqn9+/eT/jv5ktjY2KSnpxv76LCwMAA4fPiw8aofj4nGMpGUFARAa2u8dMmcaubOnWv+GLuloVKpnJycyHsZO/Qm4xh3d/e4uDgA8PPzq6ysNOrpU6dOBYA1a9Y0co9ery8qKjp69GhSUtInn3zSeIXNayxEnDYNAbBjRywrM60ClUrVrl07ALhknjtbGsnJyWQSrmPHjgBg1PSBXq8nU3r9+/fv27cvAIwePZoMG5vI8uXLAWDevHnkj1qtViaTHTlyJCkpaeHChTExMYGBgXZ2dvX9aaFQ2PhAodmNpdFgv34IgCNHoklzmJs2bSL/gqxL45fg4GAAIFEGnTt3NsoWiFhWVvbCCy8AwOTJk11cXADg008/bUpBtVp97dq1xMREAPD29o6MjPTx8bF6XHgSALRv3z40NPSNN9745JNPGp8nb3ZjIWJRETo7Xx88+IumvflDhISEAMDGjRtZ18Ujly9fBoC2bduShqcp3fZHuXDhgkQiAYB33nlHKBQKBILffvut4Q0ajYa0Q6tXr05ISIiIiPDx8REKhcQ0pO//0OTZxIkTV6xYkZqaKpVKq6urmy6GD2MhXj92TCAQPPrmT+XKlSvkf4BSqeRIGy8kJCQAwLRp04RCoY2NDYkIMoE1a9YAgJ2dHVmlcXR0nDdvXnx8/MCBA8m036OIRCJ/f38yE2ZlZXXgwIHs7GyNRmPmG/FjLERcunQpALRr166goKDppUgg6+TJk7kT1vzU1NSQ9Qxir/j4eHNqmzhxIpkJCwoKemi/glgs9vHxiYiISEhIIO3QtWvX6mfLiPNMnr5/CN6MZTAYXnnlFQDo3bu36u8VvVOnTtX/sq5evZp0D+Vy+fz588nF6Ohoa2vr8PBwXjRzxNq1awEgLCyMxL2dPXvWnNqUSuXWrVvx705bdHT0hg0bjh8/Xlxc3Hi/beDAgcYOGhqBN2MhYkVFBYkESkxMJFciIyMPHTpEfvb19b1+/Toi1tXV5ebmkovZ2dlkPvDrr7/mRTMX9OnTp77b3rNnT1bqNKHPEB8fDwDff/89KwL4DBJ3cnLavXt3dHQ0mdkDAD8/v1u3bpGfpVJpp06dAEAoFPr7+5OLXbp02bx5M8MwCxYsOH36NC+y2eWPP/7IyMhwdXUlVpg+fTor1a5fvx4A4uPjnxQc8Sjkl1wmk7EigM8W61GaOMZesGABAHh4eNy+fZtrSVwzcuRIgUAQGhq6e/fuUaNGNX0toRHqO21Xr15teqkff/wRAGJiYswXgPx+Ck1Gp9MNHTpUJBLtnjwZedriwRaJiYkMwzg6OrK4Tke2LQ0ZMsSoUmlpaQDQp08fVjRYpLEQ8d69e2eHDUMAFkNxeEGv1//rX/8CgJ49e7I1hxIYGAgAP/30k1GlysrKAMDBwYEVDZZqLETE8+dRLEaGwR07+JZiFtXV1V27dgWW9hpdvHgRAJydnU3YdUMWK1nZSGfJxkLEb75BALS3x8xMvqWYRXZ2toODAxgTCPQkyH64+oG2UQQFBYHZ8x0ECzcWIk6ahADYuTO7AfXNz7Zt2wBAJBKdOXPG5ErkcrmdnR3DMGSmxlhIcMQWEkpuHpa/J33dOujTB4KC4O81LwslLi5u1qxZOp3u1VdfNTmhQUpKilKpjIiIIDM1xsLmjIP53uQfEnu0fDl+9BG+8w5a7M5VrVZL9rGFh4fXNTk2X6PRZGVlkY5/jx49AMDkfcUbN24Elrp6rcJYiHj6NG7YgIiYkYEmhQa0EO7evUsWdt57771H/7aR8IQzZ86QGWMPDw+TQ9dPnToFLIUktcSMfqZw6xb4+AAA+PnBli18qzEdDw+PnTt3hoWFLV++PDAwcNy4cX/++eeaNWvy8/Pz8/NLSkoeLWJlZeXn56dUKv/73/8CwNSpU0WmZp/r1KnTkCFDSKigmTCIjWc1sxDy82HDBvjsM9i2DaysICaGb0Fm8cUXXyQmJjo4OFy8eLGoqCgqKopcF4vFnp6e3t7erq6u9vb2AoGgtra2pqbmxo0bOTk5KpWKYZjc3FzSVeIXroxVUQEXLkBUFFy5AlZWEBAAAHD2LMjlMHIkbN8OcXGsPu/uXcjOhtOnwd8fXn0VLDy/LSKOHz9+586d3bt3/+qrr/bt22cwGJRK5d27dwsKCoqLi+vq6h4tZWNjs3jx4sWLFze/4Efh6lOoUMDlyxAVBUVFIJE8MFZODuzeDSEhcO4c28aKi4PCQti/H/r0YbVefmAYJjk5OT09PS8vj8SUPoSTk5OPj0+3bt0CAgJ8fHx8fHz8/f3btKQ85Bz2sY4dA50OcnIgPv6fi3Pnwqefsv0k0lbZ24OfH9tV84aDg8OAAQO2bt3q5uYWGBjo6+vr5+fn5+fn6+vr4+MjbvEnJHBorPBwePdd2L//fy62bw9eXrB3L6tPWr8eEGHiRHBwYLVePlGpVCQ07ejRo2S7s2XBlbGsrcHbGwDA1RXEYvj1V7h2DXr0AHt7mDEDrl8HhQJqauDv7HxmoFZDSgoAwNSpZtfVgti6dWtlZeXgwYMt0VUAzTVBajBgw+xLMhl264bBwWh2zD7ixo0IgCEhZlfUsiDLdikpKXwLMZFmWtJZvBjs7KB+KOPkBBoNXLwI5ufqTTtxwtCuHbAUeNlCuHz5slQqdXZ2/ve//823FlPhy9GXL6OtLQJgcrLplWRkZACAl7t7nQUmWGuEadOmAUD9FhJLhM8lnfpMDlKpiTWQCPG5c+eyqotnqqurHRwcTI5QaCHwvFaYkIAAOG7cRZLu0SjqI7uvXbvGhTa++PbbbwFg+PDhfAsxC56NpdHghAk/AsDIkSONTf1LDvkJCwvjSBtf9O7dGwBSU1P5FmIW/Ec3FBcXu7q6AsDHH3/clPtra2tzcnJ++eUXsiK2bds2rhU2J2fPngUAd3d3FpPr8QL/0Q0dOnTYtm3biBEjPv744379+tUvuAKAVqu9detWwd9kZmZmZWWRVG8A4OzsbG9vT6LFWw1kg82UKVNMjlBoIbSU6IZly5a9//77bdq0mTZtWmVlZX5+vkwmu3379qN3CoVCLy8vPz+/mzdv5uTkBAQEXLhwoWHqJstFLpc///zzGo0mPz+f5BS1XFqKsRBx4MCBBQUFpaWl9RdFIlGHDh0eGyXi6Oj4888/9+/fPzMzc/z48du3b+dRPFusWrVq3rx5UVFRhw4d4luLufD/KSQwDCMWi0tLSyMiInr27KlWq5VKZUlJiUwmO3XqlE6ne+h+Z2dnOzu7PXv2BAcH79ixIyQkhP2D0bjn3j1lXl46aZ7z8/P37t0LAG+++SbfutiA5z7e3+Tk5NTnq300UKQ+g/6SJUtIErD6regk77yVldXJkyd51P/hh0gyJy5c+M/F0FAsLMSCAly7FktK8Lvv8MIFTEzEceOwZ0+0tcWePU81fE2BQODt7c3uKVx80VJarKSkJEScMGFCmzZtxowZUx8i4ufn5+PjY21t/aSCY8eOXbBgwcqVK2NjY9PT00nAePNTVQVVVSAWQ0XFPxe7doXPP4f580GjAbUaFArIzoaVK/+5obbWv3///vVv2rFjx6CgoEZe1oJoEX0sjUbj6elZXl4ulUrJ9nCj0Ov1UVFRR44cGThw4PHjx3mJVZo7Fzp2BKEQjh79J1Lo7bdh0CC4cQMEAnj7bQCA/HzYsQP8/MDXF/z84H+PWmpd8N1kIiJu3rwZAIKDg02uoaSkxNPTExrk/W1m5sx5EKnx1ltoMGBaGqrVSJaaYmMtet+QibQIY5FccsnmLEcjpqWlkbZqx1NTOZDEuHV1uHkz6vW4Zg0uXYo//GDO00+eRLIR8NgxLC3F/Hxcvx7/+AMRsaAAL140p26LhH9jkYRjjo6O5h+DSPY/2dvbP2X1kJw8UFuLs2fjjh24dy8i4tdfIxs5Cwi//oqtawHTaPjfYk/mmidNmmT+JOfMmTMnTZqkUCjGjRtXXV39xPuKi2Hp0gex91evwoABAAAhIXD1qpkCCAUFkJkJtbWsVGax8OtrhUJBcooalXuuEVQqFUnp2bdv3yeuajdssbZuxV9+QURcvx5Pn2ZFAyIOHIjDh+POnWzVZ3nw3GJt3bq1qqoqNDSUlcjuoqIiuVyempoqFArT09MLCgoef1+vXgAAAgH06AGxsZCVBZ98Ano9DB4MN2+aL6OyEoqL4cQJmDvX/MosFn59TSYXfvzxR1Zqe+2110Qi0cqVK8k8/t27d40obDDgsmXo5WV+TpGNG1EgQJEIz583syYLhk9jmZN77lHKysqsra0FAgFZEpkxY4Zx5RUKnDQJ2ciWGxmJNjYYGWl+TRYMn8Z6/fXX4e/cc+aHH33++ecAEB0dTfIdmnBm3z+Yt3nIzk7r5mYoLjanDouHzSWdUq22TKcDgC52dg37bgbEu1ptTlpaXnZ2/YKrTCYTCoVCoTA2Nvazzz5LTU09c+bMQ+cENR1E/P777wHA39//0KFDAwcO7GPyXvsjR2DGDLh8GUwapebn5wPEBwfP7tCB3SQCFgabxtpeWtrD3l7MMHlqdXpNza3a2pu1tbdqa+/U1tYh4urV6fv2NbzfxsZGr9cvWbIkNzc3Pz9/1qxZxBwmcPTo0dzc3A4dOpw7dw7MTMPv6wvbtpnmKgBISUlxdr7900/RpgtoFbC8CH1fp3MRic7K5Wvv3Km/yAC4icV+ERF9nJ3Jaquvr6+vr29VVVVgYOChQ4dmz56dnJycnJw8YMCAqSZtaCaTYWPGjFmzZk3btm3N2o7n4/Mg1ZZJHDp0aNq0aS0qPwc/sPhZ/frmzRsaTblOd6m6evmNGyn37p2orMxXqWqfvEviyJEj5GQ9cvisRCK5aPzyx927d0UikZWVFem0vf322+a9xwNeffVVVdO2K1ZVVaWnp6empsbExHh6elp6uDorsGwslfGHpn700UcA0K5dO3IempeX1/37942qgZxQ9/LLL5N2IpOl1NyPlVFRUSGVSlNTU1esWFGfrJFpkI5LIBCQEKBnHDaNVaXTGXfcLCIi6vX66OhoAOjduzdZjR4+fHjTU7vq9XpyZO3s2bMBYNiwYcZLaIyff/759ddfHz9+fFBQUNsnhLlYW1t379597NixAQEBAGBvb5+VlcWuDIuD/0VobHC+3MSJE9u3bw8AH3zwQRPLHjx4EAB8fX3JMHD79u0sCtu7dy/zv8kBra2tfXx8Ro0atXDhwqSkpCNHjshksoZrR2+88QYAdOrUSS6Xs6jE4mgRxkLEK1eukAPQEhMTraysGIbZs2dPUwqOHj0aAGbOnAkArq6u5p852xByAO4LL7ywZcuWc+fONeUskPrFyrFjxxp7YHhroqUYCxFTUlJIk0A+am3bts3Pz39qqfnz53t4eJAjFRYtWsSiHoVCYcLhbIiYl5dHPporV65kUY9l0YKMhX8n+ejYseOoUaNIr0vXhFPjCgoKbGxsGIbJy8tjUcx3330HAKGhoSaUPXDggEAgEAqFv//+O4uSLIiWZSytVkv67+Hh4UFBQY9un3/SoMzV1bVTp07sijFzgfy9994DAHd391u3brErzCJoWcbCBqkcpk+ffvLkyeTk5Pfeey82NjYwMJBEbj12UCYWixmG2b17N1syzF8g1+v1L730EgAMGDCAnJr+TNHijIWIv//+u0Dw+EAxa2vrbt26xcTEPDQoW716NRnnszWJZc7hbPWUl5eTnfKzZs1iRZUF0RKNhYizZ892cnLq1avX66+/vmTJkpSUlPPnz5eWljZShBzC3rlzZ/OPVTbzcLaGpKenk5X1TZs2mVmVZdFCjWUCCoWCzE+OHz/ezKrIpoyIiAhWhJED5W1sbMyK5LE0Wo+xEDE3N5f0w1Y1TNFsPORwtp3shayTWVM3N7dnpyPfqoyFiPv37zczlYP5h7M9ilqtdnBwEIvFz84Hkf/tX+wyZsyYxMTEurq62NjYOw1Cd5oOicAx53C2RyFnKmm12m7durFVZ0uHb2ezT11dHclXExISYuw4vz5wvrCwkEVJa9euBQ4WyFsyrdBY2CCVg7GxWeRMtpEjR7Krh4sF8hZOS0ljxC5ubm67du0aOnToqlWr+vTpQyK9HqWmpkb+N3fu3Llz5866desYhiGdd7Y4f/58RkaGq6vryy+/zGK1LZwWkcaII9asWTNz5kyRSBQZGSmRSDSPoFarVSoVANjZ2XXp0mXEiBF79+5NS0vz9va+dOkS2e1jPpMnv/nDD5sWLVq0fPlyViq0DPhuMrmFjPMfwtHR0d/fPzw8/D//+c/hw4drGuxQ1Wq1gwYNAoAXX3yx6cGGjVBXV5GR4blr17DCwgLza7MgWrmxlEplQECAUCj09PQcPHhwXFzchg0bbty40UiR+sXKjz76yHwBJSWrpFLIy4syvyrLojV/CgkymUypVHbt2rXp0wfHjh2LjIxExAMHDpCwaZPJyuquVmf6+u5r23asOfVYHnw7u4WybNkyAHBycpLJZCZXUl19XCqFK1faGwzP3L6d1jZByhbvvvvuuHHjKisrx40bRzr4JlBWlgQALi4JDGPZx0yYADXW42EYZtOmTV26dLly5Ypp+6oRa2tqTjCMlYtLqzpTuIm0/j6WOVy9ejUkJESpVH733XfkcMomYjCo5fK9QmFbgUDi4DCcO4UtFmqsp7Bt27YJEyZIJJLTp0/369eviaXu3Fni4DDEyspNLO6YkxNsa9vPzi7Yzq6/rW1vhuEhW3jzQ431dGbNmvXtt9926NAhPT3dxcWl4V8ZDAad7qZWK6utza+tlWk0+bW1Momko4tLQmVlqovLdER1bm5E/f0MI+nxwysigRsEB0NwMPj7N/vbNBPUWE9Hp9OFh4efOXMmKChoyZIlRUVFJBNTfn5+YWHhwYNOTk73Gt4vFr/Qo0ehwaApKprk6DhaoTgvFFrr9QqV6pJadaXvi/ZQKX9wq7MzfPghTJ8OmZnw/PPg7s7D63EDNVaTuH37dvfu3aurqw0Gw0N/tXNnWI8eeonEVyLxk0h8ra39JBLfmprjKtVfWm2BXl8jlz9I3iSR+Dmrw9pvloBeD7dvg1QKd+9CUhKcPQsxMXDiBIwdC6Ghzf5ynECN1VS2bNmyatUq5waZmMh/H80iXlX1i1KZZmsbrNUW6PVyvV6pVF5QqdINBkXHU4Nc5p0FABCJoHdvCAiAUaNAqYT4eNDpYNYsWL+eh3fjgNYZ3cAF8fHxZL/GU6mq+vX+/TVubjNKS9e2aTPC3/83AEDUazSZwpprMKULXLwIWVnw55+QkwNTpkBuLgCAwQBCIaev0JxQY7GPwaACAEQGAASCB8kvGUZoY9MTwnpC2AQAAIUCpFK4cwcGDICNG8HODs6dg0mT+FPNMtRY7IOorv9ZILB9/E329hAW9uDnDRsgNxdeegmesCPXEqHGYh+DoaGxmpCuVyiE1nVkOlBjccHzO92fzw7VD7d1vhSGwzpAR74F8QE1FvtYH8qG06fBNgDWnwBJP3iGApL/gS5CcwCJhiAzXrZP6GO1dqixOECtBgDQ6wEATD0SwdKhxuIA0mLV1QE8u8aiM+8ccPQo3LsHdnZQWgqDB8Ozs/u5AbTzzgEqFfz1F3h4QEXFs+kqoMbihH37IDkZAGD+fJDL4QnZ4Vs3tI/FAfVLfhIJ6HS8SuEN2mJxQJ8+sGEDeHtDeTm4uvKthh9o550b/voLysth8GBgLxeSZUGNReEE2seicAI1FoUTqLEonECNReEEaiwKJ1BjUTiBGovCCdRYFE6gxqJwAjUWhROosSicQI1F4QRqLAonUGNROIEai8IJ1FgUTqDGonACNRaFE6ixKJxAjUXhBGosCidQY1E4gRqLwgnUWBROoMaicAI1FoUTqLEonECNReEEaiwKJ1BjUTiBGovCCdRYFE6gxqJwAjUWhROosSicQI1F4QRqLAonUGNROOH/ATrkvPMDQqdJAAACtnpUWHRyZGtpdFBLTCByZGtpdCAyMDI0LjA5LjUAAHichZJvSBNxGMef+915O7fZ5ubcnG67beXESvpngbH2M4TIwHpRZJhxBtVBVCAllWZ7MTIhIzCiN+mL/r1JCypEC/frD5makWiQQQaCYRr0RoIypbtnbBYF/eDh+7nvPb/n+cLd196OcdCOVSsCiVOgVaFWUc4KsqaihBZPkiqCorcTUV6nKccJKYNigyBSVVeeSxqpm3iDLN6QcMPiRFSOF9EW0lG4PyU50wC4hEttTb1PLk8ukxJTuVReg7xGB/L/4L8Zf0Ei42LkfykhJuAkAkQrXpsHQprApYkgGlRikBQpXU43gtEkEJMZzBmQsQSMFrBYwZIJFhtIdpXYs2S7Q3Fkg8OpEsEFrhyBuNzgzhW43DzI84DHqxKvT/HJKpH9ij+gEl8QgkshuAyC+eAOQQjAKSoBj7KZ178mhNwugRcNkt3hFEWvT/YHPM5pTssMyR+gtI2nUznXmP7Qc7aGXvXfRi4rBDqbOYTsDdki0qPryH0f7/d2x+uRP8kz8YVoDHntlVXsxrYw8qkmM8u69TKuc0nLFtY6+bxX52hjkL3uikZ0prF9LGIzU52rX7WxH+3z6Ie3P2a7zpWjf3pshtnLwsgrO4UnxWdiyE0nStg74wHkoYPZrJtrR7Z2NbP+C4me99+fxn0/aYJ3tLLheifm6Rm5xy5WO3HXhsqbLPfuPPrHJ0bZmxwz5t/9tolNtpQjZ6zYs0nuCyAvDBbHL/k7sb+uYiwyHnOgP/vQSm2ra9E/OnCMmgrCyJe/NNOqnnzcNVzXTfc/q0IuahyktZ8tmK1iroMOtFch+yca6PnqCmR1pJJ+6J/G/sPSHH2w3IP+i1Eondp7Ev3yQ7O0iDagv3Oro/TbkULkuTshun5jDWbL/gUkHL5zBBXYNQAAA5d6VFh0TU9MIHJka2l0IDIwMjQuMDkuNQAAeJx9VstuHDkMvM9X6AdGEJ8SDznEdpwEQcZA4uw/7H3/H1vU2Oo2IGQmTfTI1exSsUjlUvLz6+nHv/+V9eGny6WU9pd/EVH+kdba5WfJm/Lw5ev3W3l8/fzwvvL48uf2+rtoK8p4Bt+P2M+vLz/fV6j8LlybuYmWq9ZooYSnapuf41EuL0WqsShTuVpl5mG0AQqAyNjYRitXr9qG6i6jlkesWm94Z2Ykchu7jAbgtVUxEurlKjVErPcN0hNJdYhjF7kd0tbVN8ieSK7dgrznXSDjlua4IwkAj8xu3s3HBhmJFOyjR9hkPNRcN0hqEAlJzdTCCwFgDhU2SLon1e6DGcLSGE7bnJxIVNBZtSNnDFK1HTJLBMHHUO+CqpKr6vbtWaNrr9IbxyhTJUZZN8hZpFE52FjLVJ7HlqffBQ2ClfLt1ge+O2Qvz4kUg5syZ/gI3759JFKrNLHo8+1MY1d3ikRSGpkNZq2NTMaumtzuenoTxz3KCa90kR2Uyi0FNXh+ug1I7jsr8ywSvO69gfR1Vinajim0ec7+cWNXmRYc0fquoKx3qln44OlB16AtAZtdx8Rt8LSgirZdndjTJa12avBRUhVIETubcHYTVY/e22wmgWSyZTqgFFd2Imwa2UO9+Zloefz29RMtfPaU1J5GnTXoKFbs2jTnHgovYMvJ0Y14O00kO8pqh5Ut9z1QM9uZSrJWDvcFLJKkdWBXO6DMjIqpAyXQq0LOO0uJzt0EBllj3DAKZjtBxSZQRo8mJQeaYtrugNlMvWLC9p79qWZ9L0+WaGDQU2j2WsB/2yEmY2Z06TmQQFZJadedkqUJlLqh0/Fqdw7fCa5ZGfydAnM7zQkOLLttf7k9fTic7sfVw8vt6TiuOK/jUMqfchw9hK8eBwx+FDuOEcIFwZ5PBsPwxdWPY0FxjWP2K644BjzldR7jNMNKR0kgA8/XLGaUPDMcK5MswqJLyTfDYkz2ls1Pw5NmWIxRm/vKIo25cl9ZvDH0FMT5PNsoAx+NllLlyqHtVBoKL8owv86VRZl1asqLMSdjBPaP+2d/W1+8OXkjoFE+FISTPQIv9pyyI8i517XMVj41tWaQRR/dqxnkcEfSR5BFH/2oGWTxl+SfTy3FJZkjyGIu/W1lKS7jbWVxlrjvTs9dQDOsham4Ht7TydhO+8x+OLs/f7//Rw/3l/8B3InmcBgOflAAAAHyelRYdFNNSUxFUyByZGtpdCAyMDI0LjA5LjUAAHicLVJNa9xQDPwrPdrU+3j6lrIUAi4hp+yh9BRy8o/IJT8+o9eCF9bj0Wg00nk+zvfz+fn1Y3tcdG1v+7W97Ne1/Uf5/LP9euz9awS097dX/vlxXtKk7dzxnCi4ZF/f+bFftJ8QwfPy42u75eBi40MH6eQ87rcYElMOHmWxABuZ6nHIIFc1IDrKGf9oVJIqEBkanowqynQCwsNMHZQ5bQEop6g6bnNIqrkuIZ/i3JgVhchqZ2xpx4I4aEHkMUFbDashH24MjVt3rJlLjFUDDZbR+mciWrdZmCa6JY0ULxSuiaPHgSEjaZqMEjGIoXnMmhBDb/KGeGAQky7EB4W8wKkoN4eZYbk5E+YP2NOZnQwPpyppaaNiIDS8AmPBk2B2aQ47EXUKpT59SQcil4ZCMouPuw6hSYJc3IgTJBuBqTqptOzFOAYpMmyBNRHrPQZMRAJQM0RzTwxB1SUVkzyb4hJoidGVMMy9YGsqSty5vLsoAhMQVMilvRXiwjsjb+93SWh3sMrV2THxxDH0DajoSjjgHXkgfvGpazXUK2nEPCwWVNR5IqpoxUbEkOjRB5dtBuELLmadK1OtfWIJbCiaZFLHfnz+fgLrEPiy4/PvE4GMe4at+fUNojqvADE3K9oAAAAASUVORK5CYII=\" alt=\"Mol\"/></div></td>\n",
       "    </tr>\n",
       "    <tr>\n",
       "      <th>4</th>\n",
       "      <td>S1(=O)(=O)N(c2cc(cc3c2n(cc3CC)CC1)C(=O)N[C@H](...</td>\n",
       "      <td>8.698970</td>\n",
       "      <td>629.71283</td>\n",
       "      <td>3.5086</td>\n",
       "      <td>3</td>\n",
       "      <td>3</td>\n",
       "      <td style=\"text-align: center;\"><div style=\"width: 200px; height: 200px\" data-content=\"rdkit/molecule\"><img src=\"data:image/png;base64,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\" alt=\"Mol\"/></div></td>\n",
       "    </tr>\n",
       "  </tbody>\n",
       "</table>\n",
       "</div>"
      ],
      "text/plain": [
       "                                                 mol     pIC50         MW  \\\n",
       "0  O1CC[C@@H](NC(=O)[C@@H](Cc2cc3cc(ccc3nc2N)-c2c...  9.154901  431.56979   \n",
       "1  Fc1cc(cc(F)c1)C[C@H](NC(=O)[C@@H](N1CC[C@](NC(...  8.853872  657.81073   \n",
       "2  S1(=O)(=O)N(c2cc(cc3c2n(cc3CC)CC1)C(=O)N[C@H](...  8.698970  591.74091   \n",
       "3  S1(=O)(=O)C[C@@H](Cc2cc(O[C@H](COCC)C(F)(F)F)c...  8.698970  591.67828   \n",
       "4  S1(=O)(=O)N(c2cc(cc3c2n(cc3CC)CC1)C(=O)N[C@H](...  8.698970  629.71283   \n",
       "\n",
       "    AlogP  HBA  HBD                                           mol_obj  \n",
       "0  4.4014    3    2  <rdkit.Chem.rdchem.Mol object at 0x7a9b7d58a7a0>  \n",
       "1  2.6412    5    4  <rdkit.Chem.rdchem.Mol object at 0x7a9b7d58a1f0>  \n",
       "2  2.5499    4    3  <rdkit.Chem.rdchem.Mol object at 0x7a9b7d58a110>  \n",
       "3  3.1680    4    3  <rdkit.Chem.rdchem.Mol object at 0x7a9b7d58a0a0>  \n",
       "4  3.5086    3    3  <rdkit.Chem.rdchem.Mol object at 0x7a9b7d589f50>  "
      ]
     },
     "execution_count": 20,
     "metadata": {},
     "output_type": "execute_result"
    }
   ],
   "source": [
    "# check if the script is running on google colab\n",
    "# if so, install rdkit\n",
    "import sys\n",
    "#if 'google.colab' in sys.modules:\n",
    "#    !pip install rdkit\n",
    "\n",
    "# import relevant packages; make sure the structures are rendered in dataframes\n",
    "from rdkit.Chem import PandasTools, Descriptors\n",
    "PandasTools.RenderImagesInAllDataFrames(images=True)\n",
    "\n",
    "# paste answers and run\n",
    "PandasTools.AddMoleculeColumnToFrame(bace1_df, smilesCol='mol', molCol='mol_obj')\n",
    "bace1_df.dropna(axis=0) # drop entries containing empty cells\n",
    "#display(bace1_df)\n",
    "bace1_df.head()"
   ]
  },
  {
   "cell_type": "markdown",
   "id": "FekZyRAw6JwP",
   "metadata": {
    "id": "FekZyRAw6JwP"
   },
   "source": [
    "1c- Use *rdkit* to calculate the topological polar surface area (TPSA) of the small molecules in the BACE-1 dataframe.\n",
    "\n",
    "(5 points)\n",
    "\n",
    "```python\n",
    "bace1_df[\"TPSA\"] = bace1_df.apply(lambda row: Descriptors._____(row.mol_obj), axis=1)\n",
    "display(bace1_df)\n",
    "```"
   ]
  },
  {
   "cell_type": "code",
   "execution_count": null,
   "id": "r9wCHcQiE4sp",
   "metadata": {
    "id": "r9wCHcQiE4sp"
   },
   "outputs": [
    {
     "data": {
      "text/html": [
       "<div>\n",
       "<style scoped>\n",
       "    .dataframe tbody tr th:only-of-type {\n",
       "        vertical-align: middle;\n",
       "    }\n",
       "\n",
       "    .dataframe tbody tr th {\n",
       "        vertical-align: top;\n",
       "    }\n",
       "\n",
       "    .dataframe thead th {\n",
       "        text-align: right;\n",
       "    }\n",
       "</style>\n",
       "<table border=\"1\" class=\"dataframe\">\n",
       "  <thead>\n",
       "    <tr style=\"text-align: right;\">\n",
       "      <th></th>\n",
       "      <th>mol</th>\n",
       "      <th>pIC50</th>\n",
       "      <th>MW</th>\n",
       "      <th>AlogP</th>\n",
       "      <th>HBA</th>\n",
       "      <th>HBD</th>\n",
       "      <th>mol_obj</th>\n",
       "      <th>TPSA</th>\n",
       "    </tr>\n",
       "  </thead>\n",
       "  <tbody>\n",
       "    <tr>\n",
       "      <th>0</th>\n",
       "      <td>O1CC[C@@H](NC(=O)[C@@H](Cc2cc3cc(ccc3nc2N)-c2c...</td>\n",
       "      <td>9.154901</td>\n",
       "      <td>431.56979</td>\n",
       "      <td>4.4014</td>\n",
       "      <td>3</td>\n",
       "      <td>2</td>\n",
       "      <td style=\"text-align: center;\"><div style=\"width: 200px; height: 200px\" data-content=\"rdkit/molecule\"><img src=\"data:image/png;base64,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\" alt=\"Mol\"/></div></td>\n",
       "      <td>77.24</td>\n",
       "    </tr>\n",
       "    <tr>\n",
       "      <th>1</th>\n",
       "      <td>Fc1cc(cc(F)c1)C[C@H](NC(=O)[C@@H](N1CC[C@](NC(...</td>\n",
       "      <td>8.853872</td>\n",
       "      <td>657.81073</td>\n",
       "      <td>2.6412</td>\n",
       "      <td>5</td>\n",
       "      <td>4</td>\n",
       "      <td style=\"text-align: center;\"><div style=\"width: 200px; height: 200px\" data-content=\"rdkit/molecule\"><img src=\"data:image/png;base64,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\" alt=\"Mol\"/></div></td>\n",
       "      <td>124.58</td>\n",
       "    </tr>\n",
       "  </tbody>\n",
       "</table>\n",
       "</div>"
      ],
      "text/plain": [
       "                                                 mol     pIC50         MW  \\\n",
       "0  O1CC[C@@H](NC(=O)[C@@H](Cc2cc3cc(ccc3nc2N)-c2c...  9.154901  431.56979   \n",
       "1  Fc1cc(cc(F)c1)C[C@H](NC(=O)[C@@H](N1CC[C@](NC(...  8.853872  657.81073   \n",
       "\n",
       "    AlogP  HBA  HBD                                           mol_obj    TPSA  \n",
       "0  4.4014    3    2  <rdkit.Chem.rdchem.Mol object at 0x7a9b7d58a7a0>   77.24  \n",
       "1  2.6412    5    4  <rdkit.Chem.rdchem.Mol object at 0x7a9b7d58a1f0>  124.58  "
      ]
     },
     "execution_count": 31,
     "metadata": {},
     "output_type": "execute_result"
    }
   ],
   "source": [
    "# paste answers and run\n",
    "\n",
    "bace1_df[\"TPSA\"] = bace1_df.apply(lambda row: Descriptors.TPSA(row.mol_obj), axis=1)\n",
    "bace1_df.head(2)\n",
    "#display(bace1_df)"
   ]
  },
  {
   "cell_type": "markdown",
   "id": "Wn2CiytvtkBB",
   "metadata": {
    "id": "Wn2CiytvtkBB"
   },
   "source": [
    "1d- Create a scatter plot to display the calculated TPSA values against molecular weight.\n",
    "\n",
    "(5 points)\n",
    "\n",
    "```python\n",
    "TPSA = bace1_df[___]\n",
    "MW = bace1_df[___]\n",
    "\n",
    "plt.figure(figsize=(6,5)) # use figsize to adjust the figure size\n",
    "plt.scatter(___, ___, s=12) # s controls the marker size\n",
    "plt.xlabel(\"MW\")\n",
    "plt.ylabel(\"TPSA\")\n",
    "plt.show()\n",
    "```"
   ]
  },
  {
   "cell_type": "code",
   "execution_count": 34,
   "id": "hY3hRrZmE6WR",
   "metadata": {
    "id": "hY3hRrZmE6WR"
   },
   "outputs": [
    {
     "data": {
      "image/png": "[encoded data removed]",
      "text/plain": [
       "<Figure size 600x500 with 1 Axes>"
      ]
     },
     "metadata": {},
     "output_type": "display_data"
    }
   ],
   "source": [
    "import matplotlib.pyplot as plt\n",
    "\n",
    "# paste answers and run\n",
    "\n",
    "TPSA = bace1_df[\"TPSA\"]\n",
    "MW   = bace1_df[\"MW\"]\n",
    "\n",
    "plt.figure(figsize=(6,5))\n",
    "plt.scatter(MW, TPSA, s=12)\n",
    "plt.xlabel(\"MW\")\n",
    "plt.ylabel(\"TPSA\")\n",
    "plt.show()"
   ]
  },
  {
   "cell_type": "markdown",
   "id": "2B-R6Vz4wnTL",
   "metadata": {
    "id": "2B-R6Vz4wnTL"
   },
   "source": [
    "2- According to the Lipinski's rule of five (RO5), a small molecule can be classified as a drug-like molecule if it has:\n",
    "\n",
    "- molecular weight <= 500 g/mol\n",
    "- log P < 5\n",
    "- 10 or fewer hydrogen-bond acceptors\n",
    "- 5 or fewer hydrogen-bond donors\n",
    "\n",
    "Filter the BACE-1 data set based on RO5, and count the number of drug-like molecules.\n",
    "\n",
    "(20 points)\n",
    "\n",
    "```python\n",
    "# use & and/or | to combine multiple filter conditions\n",
    "bace1_druglike = bace1_df[(bace1_df[___] <= 500) &\n",
    "                          (____________________) &\n",
    "                          (____________________) &\n",
    "                          (____________________)]\n",
    "print(bace1_druglike.shape[0]) # .shape[0] returns the number of rows (entries)\n",
    "```"
   ]
  },
  {
   "cell_type": "code",
   "execution_count": 40,
   "id": "firYad7XFFBx",
   "metadata": {
    "id": "firYad7XFFBx"
   },
   "outputs": [
    {
     "name": "stdout",
     "output_type": "stream",
     "text": [
      "From this data base, according Lipinski's rule, 819 are molecules drug-like. \n"
     ]
    }
   ],
   "source": [
    "# paste answers and run\n",
    "bace1_druglike = bace1_df[(bace1_df[\"MW\"] <= 500) &\n",
    "                          (bace1_df[\"AlogP\"] < 5) &\n",
    "                          (bace1_df[\"HBA\"] <= 10) &\n",
    "                          (bace1_df[\"HBD\"] <= 5)]\n",
    "print(\"From this data base, according Lipinski's rule, {} are molecules drug-like. \".format(bace1_druglike.shape[0]))\n"
   ]
  },
  {
   "cell_type": "markdown",
   "id": "XcpKzn3A8ybY",
   "metadata": {
    "id": "XcpKzn3A8ybY"
   },
   "source": [
    "3- Several BACE-1 inhibitors were evaluated in clinical trials for the treatment of Alzheimer's disease. For example, verubecestat, elenbecestat, and CNP520. These structures went through extensive optimization, and are not present in the given dataset.\n",
    "\n",
    "Find the SMILES code of **verubecestat** on Pubchem. Using molecular fingerprints, calculate its Tanimoto similarity to the inhibitors in our BACE-1 data set, and display the top 5 matches.\n",
    "\n",
    "(30 points)\n",
    "\n",
    "```python\n",
    "from rdkit.Chem import MolFromSmiles, rdFingerprintGenerator\n",
    "from rdkit import DataStructs\n",
    "\n",
    "morgan_fpgen = rdFingerprintGenerator.GetMorganGenerator(radius=2,fpSize=1024)\n",
    "bace1_df['FP'] = [morgan_fpgen.__________(mol) for mol in bace1_df.mol_obj.tolist()] # use .tolist() to convert a pandas series to list, for iteration purpose\n",
    "\n",
    "inhibitor_smi = __________ # SMILES of verubecestat\n",
    "inhibitor_mol = ________(inhibitor_smi) # generate mol object from SMILES\n",
    "inhibitor_fp = morgan_fpgen.________(inhibitor_mol)\n",
    "\n",
    "bace1_df['Tanimoto_Similarity'] = [DataStructs.TanimotoSimilarity(___, ___) for fp in bace1_df.FP.tolist()]\n",
    "bace1_df.loc[:, ['mol','mol_obj','Tanimoto_Similarity']].sort_values(by='Tanimoto_Similarity', ascending=False).head(5)\n",
    "```"
   ]
  },
  {
   "cell_type": "code",
   "execution_count": null,
   "id": "0szZnigDFIWV",
   "metadata": {
    "id": "0szZnigDFIWV"
   },
   "outputs": [],
   "source": [
    "# paste answers and run\n",
    "\n",
    "from rdkit.Chem import MolFromSmiles, rdFingerprintGenerator\n",
    "from rdkit import DataStructs\n",
    "\n",
    "morgan_fpgen = rdFingerprintGenerator.GetMorganGenerator(radius=2, fpSize=1024)\n",
    "bace1_df['FP'] = [morgan_fpgen[]]"
   ]
  },
  {
   "cell_type": "markdown",
   "id": "5d519343",
   "metadata": {
    "id": "5d519343"
   },
   "source": [
    "4- Molecular fingerprints and physicochemical descriptors can be used as features in machine learning models. Which kind of information do they provide for a molecule?\n",
    "\n",
    "(20 points)\n"
   ]
  },
  {
   "cell_type": "markdown",
   "id": "67698038",
   "metadata": {
    "id": "67698038"
   },
   "source": [
    "**Answers:**\n",
    "\n",
    "-----------------"
   ]
  }
 ],
 "metadata": {
  "colab": {
   "provenance": [
    {
     "file_id": "1x4Ez5rZdSdxV3lkK0Rwe5lmTJVkDAXsZ",
     "timestamp": 1728399435190
    }
   ]
  },
  "kernelspec": {
   "display_name": "base",
   "language": "python",
   "name": "python3"
  },
  "language_info": {
   "codemirror_mode": {
    "name": "ipython",
    "version": 3
   },
   "file_extension": ".py",
   "mimetype": "text/x-python",
   "name": "python",
   "nbconvert_exporter": "python",
   "pygments_lexer": "ipython3",
   "version": "3.12.3"
  },
  "toc": {
   "base_numbering": 1,
   "nav_menu": {},
   "number_sections": true,
   "sideBar": true,
   "skip_h1_title": false,
   "title_cell": "Table of Contents",
   "title_sidebar": "Contents",
   "toc_cell": false,
   "toc_position": {},
   "toc_section_display": true,
   "toc_window_display": false
  },
  "varInspector": {
   "cols": {
    "lenName": 16,
    "lenType": 16,
    "lenVar": 40
   },
   "kernels_config": {
    "python": {
     "delete_cmd_postfix": "",
     "delete_cmd_prefix": "del ",
     "library": "var_list.py",
     "varRefreshCmd": "print(var_dic_list())"
    },
    "r": {
     "delete_cmd_postfix": ") ",
     "delete_cmd_prefix": "rm(",
     "library": "var_list.r",
     "varRefreshCmd": "cat(var_dic_list()) "
    }
   },
   "types_to_exclude": [
    "module",
    "function",
    "builtin_function_or_method",
    "instance",
    "_Feature"
   ],
   "window_display": false
  }
 },
 "nbformat": 4,
 "nbformat_minor": 5
}
